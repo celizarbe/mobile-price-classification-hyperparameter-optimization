{
 "cells": [
  {
   "attachments": {},
   "cell_type": "markdown",
   "metadata": {},
   "source": [
    "# Hyperparameter Optimization with RandomizedSearchCV"
   ]
  },
  {
   "attachments": {},
   "cell_type": "markdown",
   "metadata": {},
   "source": [
    "## Setup"
   ]
  },
  {
   "cell_type": "code",
   "execution_count": 1,
   "metadata": {},
   "outputs": [],
   "source": [
    "import numpy as np\n",
    "import pandas as pd\n",
    "\n",
    "from sklearn import metrics\n",
    "from sklearn import ensemble\n",
    "from sklearn import model_selection"
   ]
  },
  {
   "attachments": {},
   "cell_type": "markdown",
   "metadata": {},
   "source": [
    "## Data read"
   ]
  },
  {
   "cell_type": "code",
   "execution_count": 2,
   "metadata": {},
   "outputs": [],
   "source": [
    "df = pd.read_csv('../data/raw/train.csv')"
   ]
  },
  {
   "cell_type": "code",
   "execution_count": 3,
   "metadata": {},
   "outputs": [],
   "source": [
    "X = df.drop(columns = ['price_range']).values.copy()\n",
    "y = df.price_range.values"
   ]
  },
  {
   "attachments": {},
   "cell_type": "markdown",
   "metadata": {},
   "source": [
    "## Random forest classifier"
   ]
  },
  {
   "cell_type": "code",
   "execution_count": 4,
   "metadata": {},
   "outputs": [],
   "source": [
    "classifier = ensemble.RandomForestClassifier(n_jobs = -1)\n",
    "parameters_dist = {\n",
    "    'n_estimators' : np.arange(100, 1500, 100),\n",
    "    'max_depth' : np.arange(1, 20),\n",
    "    'criterion' : ['gini', 'entropy']\n",
    "}"
   ]
  },
  {
   "cell_type": "code",
   "execution_count": 5,
   "metadata": {},
   "outputs": [
    {
     "name": "stdout",
     "output_type": "stream",
     "text": [
      "Fitting 5 folds for each of 10 candidates, totalling 50 fits\n",
      "[CV 1/5; 1/10] START criterion=gini, max_depth=8, n_estimators=1300.............\n",
      "[CV 1/5; 1/10] END criterion=gini, max_depth=8, n_estimators=1300;, score=0.873 total time=   5.3s\n",
      "[CV 2/5; 1/10] START criterion=gini, max_depth=8, n_estimators=1300.............\n",
      "[CV 2/5; 1/10] END criterion=gini, max_depth=8, n_estimators=1300;, score=0.880 total time=   0.8s\n",
      "[CV 3/5; 1/10] START criterion=gini, max_depth=8, n_estimators=1300.............\n",
      "[CV 3/5; 1/10] END criterion=gini, max_depth=8, n_estimators=1300;, score=0.892 total time=   0.8s\n",
      "[CV 4/5; 1/10] START criterion=gini, max_depth=8, n_estimators=1300.............\n",
      "[CV 4/5; 1/10] END criterion=gini, max_depth=8, n_estimators=1300;, score=0.860 total time=   0.8s\n",
      "[CV 5/5; 1/10] START criterion=gini, max_depth=8, n_estimators=1300.............\n",
      "[CV 5/5; 1/10] END criterion=gini, max_depth=8, n_estimators=1300;, score=0.858 total time=   0.8s\n",
      "[CV 1/5; 2/10] START criterion=entropy, max_depth=10, n_estimators=100..........\n",
      "[CV 1/5; 2/10] END criterion=entropy, max_depth=10, n_estimators=100;, score=0.882 total time=   0.0s\n",
      "[CV 2/5; 2/10] START criterion=entropy, max_depth=10, n_estimators=100..........\n",
      "[CV 2/5; 2/10] END criterion=entropy, max_depth=10, n_estimators=100;, score=0.880 total time=   0.0s\n",
      "[CV 3/5; 2/10] START criterion=entropy, max_depth=10, n_estimators=100..........\n",
      "[CV 3/5; 2/10] END criterion=entropy, max_depth=10, n_estimators=100;, score=0.890 total time=   0.0s\n",
      "[CV 4/5; 2/10] START criterion=entropy, max_depth=10, n_estimators=100..........\n",
      "[CV 4/5; 2/10] END criterion=entropy, max_depth=10, n_estimators=100;, score=0.865 total time=   0.0s\n",
      "[CV 5/5; 2/10] START criterion=entropy, max_depth=10, n_estimators=100..........\n",
      "[CV 5/5; 2/10] END criterion=entropy, max_depth=10, n_estimators=100;, score=0.875 total time=   0.0s\n",
      "[CV 1/5; 3/10] START criterion=gini, max_depth=1, n_estimators=500..............\n",
      "[CV 1/5; 3/10] END criterion=gini, max_depth=1, n_estimators=500;, score=0.613 total time=   0.3s\n",
      "[CV 2/5; 3/10] START criterion=gini, max_depth=1, n_estimators=500..............\n",
      "[CV 2/5; 3/10] END criterion=gini, max_depth=1, n_estimators=500;, score=0.588 total time=   0.3s\n",
      "[CV 3/5; 3/10] START criterion=gini, max_depth=1, n_estimators=500..............\n",
      "[CV 3/5; 3/10] END criterion=gini, max_depth=1, n_estimators=500;, score=0.637 total time=   0.3s\n",
      "[CV 4/5; 3/10] START criterion=gini, max_depth=1, n_estimators=500..............\n",
      "[CV 4/5; 3/10] END criterion=gini, max_depth=1, n_estimators=500;, score=0.608 total time=   0.4s\n",
      "[CV 5/5; 3/10] START criterion=gini, max_depth=1, n_estimators=500..............\n",
      "[CV 5/5; 3/10] END criterion=gini, max_depth=1, n_estimators=500;, score=0.573 total time=   0.3s\n",
      "[CV 1/5; 4/10] START criterion=entropy, max_depth=5, n_estimators=200...........\n",
      "[CV 1/5; 4/10] END criterion=entropy, max_depth=5, n_estimators=200;, score=0.820 total time=   0.1s\n",
      "[CV 2/5; 4/10] START criterion=entropy, max_depth=5, n_estimators=200...........\n",
      "[CV 2/5; 4/10] END criterion=entropy, max_depth=5, n_estimators=200;, score=0.835 total time=   0.1s\n",
      "[CV 3/5; 4/10] START criterion=entropy, max_depth=5, n_estimators=200...........\n",
      "[CV 3/5; 4/10] END criterion=entropy, max_depth=5, n_estimators=200;, score=0.858 total time=   0.1s\n",
      "[CV 4/5; 4/10] START criterion=entropy, max_depth=5, n_estimators=200...........\n",
      "[CV 4/5; 4/10] END criterion=entropy, max_depth=5, n_estimators=200;, score=0.833 total time=   0.1s\n",
      "[CV 5/5; 4/10] START criterion=entropy, max_depth=5, n_estimators=200...........\n",
      "[CV 5/5; 4/10] END criterion=entropy, max_depth=5, n_estimators=200;, score=0.830 total time=   0.1s\n",
      "[CV 1/5; 5/10] START criterion=gini, max_depth=7, n_estimators=1400.............\n",
      "[CV 1/5; 5/10] END criterion=gini, max_depth=7, n_estimators=1400;, score=0.860 total time=   0.8s\n",
      "[CV 2/5; 5/10] START criterion=gini, max_depth=7, n_estimators=1400.............\n",
      "[CV 2/5; 5/10] END criterion=gini, max_depth=7, n_estimators=1400;, score=0.873 total time=   0.8s\n",
      "[CV 3/5; 5/10] START criterion=gini, max_depth=7, n_estimators=1400.............\n",
      "[CV 3/5; 5/10] END criterion=gini, max_depth=7, n_estimators=1400;, score=0.890 total time=   0.8s\n",
      "[CV 4/5; 5/10] START criterion=gini, max_depth=7, n_estimators=1400.............\n",
      "[CV 4/5; 5/10] END criterion=gini, max_depth=7, n_estimators=1400;, score=0.868 total time=   0.8s\n",
      "[CV 5/5; 5/10] START criterion=gini, max_depth=7, n_estimators=1400.............\n",
      "[CV 5/5; 5/10] END criterion=gini, max_depth=7, n_estimators=1400;, score=0.848 total time=   0.8s\n",
      "[CV 1/5; 6/10] START criterion=gini, max_depth=16, n_estimators=400.............\n",
      "[CV 1/5; 6/10] END criterion=gini, max_depth=16, n_estimators=400;, score=0.895 total time=   0.2s\n",
      "[CV 2/5; 6/10] START criterion=gini, max_depth=16, n_estimators=400.............\n",
      "[CV 2/5; 6/10] END criterion=gini, max_depth=16, n_estimators=400;, score=0.887 total time=   0.2s\n",
      "[CV 3/5; 6/10] START criterion=gini, max_depth=16, n_estimators=400.............\n",
      "[CV 3/5; 6/10] END criterion=gini, max_depth=16, n_estimators=400;, score=0.900 total time=   0.2s\n",
      "[CV 4/5; 6/10] START criterion=gini, max_depth=16, n_estimators=400.............\n",
      "[CV 4/5; 6/10] END criterion=gini, max_depth=16, n_estimators=400;, score=0.875 total time=   0.2s\n",
      "[CV 5/5; 6/10] START criterion=gini, max_depth=16, n_estimators=400.............\n",
      "[CV 5/5; 6/10] END criterion=gini, max_depth=16, n_estimators=400;, score=0.868 total time=   0.2s\n",
      "[CV 1/5; 7/10] START criterion=entropy, max_depth=11, n_estimators=600..........\n",
      "[CV 1/5; 7/10] END criterion=entropy, max_depth=11, n_estimators=600;, score=0.890 total time=   0.4s\n",
      "[CV 2/5; 7/10] START criterion=entropy, max_depth=11, n_estimators=600..........\n",
      "[CV 2/5; 7/10] END criterion=entropy, max_depth=11, n_estimators=600;, score=0.900 total time=   0.4s\n",
      "[CV 3/5; 7/10] START criterion=entropy, max_depth=11, n_estimators=600..........\n",
      "[CV 3/5; 7/10] END criterion=entropy, max_depth=11, n_estimators=600;, score=0.902 total time=   0.4s\n",
      "[CV 4/5; 7/10] START criterion=entropy, max_depth=11, n_estimators=600..........\n",
      "[CV 4/5; 7/10] END criterion=entropy, max_depth=11, n_estimators=600;, score=0.870 total time=   0.4s\n",
      "[CV 5/5; 7/10] START criterion=entropy, max_depth=11, n_estimators=600..........\n",
      "[CV 5/5; 7/10] END criterion=entropy, max_depth=11, n_estimators=600;, score=0.877 total time=   0.4s\n",
      "[CV 1/5; 8/10] START criterion=gini, max_depth=7, n_estimators=800..............\n",
      "[CV 1/5; 8/10] END criterion=gini, max_depth=7, n_estimators=800;, score=0.865 total time=   0.4s\n",
      "[CV 2/5; 8/10] START criterion=gini, max_depth=7, n_estimators=800..............\n",
      "[CV 2/5; 8/10] END criterion=gini, max_depth=7, n_estimators=800;, score=0.863 total time=   0.4s\n",
      "[CV 3/5; 8/10] START criterion=gini, max_depth=7, n_estimators=800..............\n",
      "[CV 3/5; 8/10] END criterion=gini, max_depth=7, n_estimators=800;, score=0.885 total time=   0.4s\n",
      "[CV 4/5; 8/10] START criterion=gini, max_depth=7, n_estimators=800..............\n",
      "[CV 4/5; 8/10] END criterion=gini, max_depth=7, n_estimators=800;, score=0.850 total time=   0.4s\n",
      "[CV 5/5; 8/10] START criterion=gini, max_depth=7, n_estimators=800..............\n",
      "[CV 5/5; 8/10] END criterion=gini, max_depth=7, n_estimators=800;, score=0.843 total time=   0.4s\n",
      "[CV 1/5; 9/10] START criterion=entropy, max_depth=3, n_estimators=900...........\n",
      "[CV 1/5; 9/10] END criterion=entropy, max_depth=3, n_estimators=900;, score=0.775 total time=   0.5s\n",
      "[CV 2/5; 9/10] START criterion=entropy, max_depth=3, n_estimators=900...........\n",
      "[CV 2/5; 9/10] END criterion=entropy, max_depth=3, n_estimators=900;, score=0.762 total time=   0.5s\n",
      "[CV 3/5; 9/10] START criterion=entropy, max_depth=3, n_estimators=900...........\n",
      "[CV 3/5; 9/10] END criterion=entropy, max_depth=3, n_estimators=900;, score=0.792 total time=   0.5s\n",
      "[CV 4/5; 9/10] START criterion=entropy, max_depth=3, n_estimators=900...........\n",
      "[CV 4/5; 9/10] END criterion=entropy, max_depth=3, n_estimators=900;, score=0.780 total time=   0.6s\n",
      "[CV 5/5; 9/10] START criterion=entropy, max_depth=3, n_estimators=900...........\n",
      "[CV 5/5; 9/10] END criterion=entropy, max_depth=3, n_estimators=900;, score=0.757 total time=   0.6s\n",
      "[CV 1/5; 10/10] START criterion=gini, max_depth=19, n_estimators=500............\n",
      "[CV 1/5; 10/10] END criterion=gini, max_depth=19, n_estimators=500;, score=0.887 total time=   0.7s\n",
      "[CV 2/5; 10/10] START criterion=gini, max_depth=19, n_estimators=500............\n",
      "[CV 2/5; 10/10] END criterion=gini, max_depth=19, n_estimators=500;, score=0.882 total time=   0.5s\n",
      "[CV 3/5; 10/10] START criterion=gini, max_depth=19, n_estimators=500............\n",
      "[CV 3/5; 10/10] END criterion=gini, max_depth=19, n_estimators=500;, score=0.895 total time=   0.5s\n",
      "[CV 4/5; 10/10] START criterion=gini, max_depth=19, n_estimators=500............\n",
      "[CV 4/5; 10/10] END criterion=gini, max_depth=19, n_estimators=500;, score=0.875 total time=   0.4s\n",
      "[CV 5/5; 10/10] START criterion=gini, max_depth=19, n_estimators=500............\n",
      "[CV 5/5; 10/10] END criterion=gini, max_depth=19, n_estimators=500;, score=0.875 total time=   0.4s\n"
     ]
    },
    {
     "data": {
      "text/plain": [
       "RandomizedSearchCV(cv=5, estimator=RandomForestClassifier(n_jobs=-1), n_jobs=1,\n",
       "                   param_distributions={'criterion': ['gini', 'entropy'],\n",
       "                                        'max_depth': array([ 1,  2,  3,  4,  5,  6,  7,  8,  9, 10, 11, 12, 13, 14, 15, 16, 17,\n",
       "       18, 19]),\n",
       "                                        'n_estimators': array([ 100,  200,  300,  400,  500,  600,  700,  800,  900, 1000, 1100,\n",
       "       1200, 1300, 1400])},\n",
       "                   scoring='accuracy', verbose=10)"
      ]
     },
     "execution_count": 5,
     "metadata": {},
     "output_type": "execute_result"
    }
   ],
   "source": [
    "model = model_selection.RandomizedSearchCV(\n",
    "    estimator = classifier,\n",
    "    param_distributions = parameters_dist,\n",
    "    n_iter = 10,\n",
    "    scoring = 'accuracy',\n",
    "    verbose = 10,\n",
    "    n_jobs = 1,\n",
    "    cv = 5,\n",
    ")\n",
    "\n",
    "model.fit(X, y)"
   ]
  },
  {
   "cell_type": "code",
   "execution_count": 6,
   "metadata": {},
   "outputs": [
    {
     "name": "stdout",
     "output_type": "stream",
     "text": [
      "0.8879999999999999\n",
      "{'bootstrap': True, 'ccp_alpha': 0.0, 'class_weight': None, 'criterion': 'entropy', 'max_depth': 11, 'max_features': 'auto', 'max_leaf_nodes': None, 'max_samples': None, 'min_impurity_decrease': 0.0, 'min_samples_leaf': 1, 'min_samples_split': 2, 'min_weight_fraction_leaf': 0.0, 'n_estimators': 600, 'n_jobs': -1, 'oob_score': False, 'random_state': None, 'verbose': 0, 'warm_start': False}\n"
     ]
    }
   ],
   "source": [
    "print(model.best_score_)\n",
    "print(model.best_estimator_.get_params())"
   ]
  }
 ],
 "metadata": {
  "kernelspec": {
   "display_name": "base",
   "language": "python",
   "name": "python3"
  },
  "language_info": {
   "codemirror_mode": {
    "name": "ipython",
    "version": 3
   },
   "file_extension": ".py",
   "mimetype": "text/x-python",
   "name": "python",
   "nbconvert_exporter": "python",
   "pygments_lexer": "ipython3",
   "version": "3.9.13"
  },
  "orig_nbformat": 4,
  "vscode": {
   "interpreter": {
    "hash": "ad2bdc8ecc057115af97d19610ffacc2b4e99fae6737bb82f5d7fb13d2f2c186"
   }
  }
 },
 "nbformat": 4,
 "nbformat_minor": 2
}
