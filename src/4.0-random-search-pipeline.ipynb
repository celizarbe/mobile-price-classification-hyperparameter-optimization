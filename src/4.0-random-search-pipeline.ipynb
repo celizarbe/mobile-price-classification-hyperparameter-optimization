{
 "cells": [
  {
   "attachments": {},
   "cell_type": "markdown",
   "metadata": {},
   "source": [
    "# Hyperparameter Optimization with RandomizedSearchCV and Pipeline"
   ]
  },
  {
   "attachments": {},
   "cell_type": "markdown",
   "metadata": {},
   "source": [
    "## Setup"
   ]
  },
  {
   "cell_type": "code",
   "execution_count": 1,
   "metadata": {},
   "outputs": [],
   "source": [
    "import numpy as np\n",
    "import pandas as pd\n",
    "\n",
    "from sklearn import metrics\n",
    "from sklearn import ensemble\n",
    "from sklearn import pipeline\n",
    "from sklearn import decomposition\n",
    "from sklearn import preprocessing\n",
    "from sklearn import model_selection"
   ]
  },
  {
   "attachments": {},
   "cell_type": "markdown",
   "metadata": {},
   "source": [
    "## Data read"
   ]
  },
  {
   "cell_type": "code",
   "execution_count": 2,
   "metadata": {},
   "outputs": [],
   "source": [
    "df = pd.read_csv('../data/raw/train.csv')"
   ]
  },
  {
   "cell_type": "code",
   "execution_count": 3,
   "metadata": {},
   "outputs": [],
   "source": [
    "X = df.drop(columns = ['price_range']).values.copy()\n",
    "y = df.price_range.values"
   ]
  },
  {
   "attachments": {},
   "cell_type": "markdown",
   "metadata": {},
   "source": [
    "## Random forest classifier"
   ]
  },
  {
   "cell_type": "code",
   "execution_count": 4,
   "metadata": {},
   "outputs": [],
   "source": [
    "scl = preprocessing.StandardScaler()\n",
    "pca = decomposition.PCA()\n",
    "rf = ensemble.RandomForestClassifier(n_jobs = -1)\n",
    "\n",
    "classifier = pipeline.Pipeline(\n",
    "    [\n",
    "        ('scaling', scl),\n",
    "        ('pca', pca),\n",
    "        ('rf', rf)\n",
    "    ]\n",
    ")\n",
    "\n",
    "parameters_dist = {\n",
    "    'pca__n_components': np.arange(5, 10),\n",
    "    'rf__n_estimators' : np.arange(100, 1500, 100),\n",
    "    'rf__max_depth' : np.arange(1, 20),\n",
    "    'rf__criterion' : ['gini', 'entropy']\n",
    "}"
   ]
  },
  {
   "cell_type": "code",
   "execution_count": 5,
   "metadata": {},
   "outputs": [
    {
     "name": "stdout",
     "output_type": "stream",
     "text": [
      "Fitting 5 folds for each of 10 candidates, totalling 50 fits\n",
      "[CV 1/5; 1/10] START pca__n_components=7, rf__criterion=entropy, rf__max_depth=4, rf__n_estimators=1100\n",
      "[CV 1/5; 1/10] END pca__n_components=7, rf__criterion=entropy, rf__max_depth=4, rf__n_estimators=1100;, score=0.405 total time=   6.3s\n",
      "[CV 2/5; 1/10] START pca__n_components=7, rf__criterion=entropy, rf__max_depth=4, rf__n_estimators=1100\n",
      "[CV 2/5; 1/10] END pca__n_components=7, rf__criterion=entropy, rf__max_depth=4, rf__n_estimators=1100;, score=0.422 total time=   0.8s\n",
      "[CV 3/5; 1/10] START pca__n_components=7, rf__criterion=entropy, rf__max_depth=4, rf__n_estimators=1100\n",
      "[CV 3/5; 1/10] END pca__n_components=7, rf__criterion=entropy, rf__max_depth=4, rf__n_estimators=1100;, score=0.403 total time=   0.8s\n",
      "[CV 4/5; 1/10] START pca__n_components=7, rf__criterion=entropy, rf__max_depth=4, rf__n_estimators=1100\n",
      "[CV 4/5; 1/10] END pca__n_components=7, rf__criterion=entropy, rf__max_depth=4, rf__n_estimators=1100;, score=0.405 total time=   0.9s\n",
      "[CV 5/5; 1/10] START pca__n_components=7, rf__criterion=entropy, rf__max_depth=4, rf__n_estimators=1100\n",
      "[CV 5/5; 1/10] END pca__n_components=7, rf__criterion=entropy, rf__max_depth=4, rf__n_estimators=1100;, score=0.417 total time=   0.8s\n",
      "[CV 1/5; 2/10] START pca__n_components=5, rf__criterion=entropy, rf__max_depth=4, rf__n_estimators=1100\n",
      "[CV 1/5; 2/10] END pca__n_components=5, rf__criterion=entropy, rf__max_depth=4, rf__n_estimators=1100;, score=0.352 total time=   0.8s\n",
      "[CV 2/5; 2/10] START pca__n_components=5, rf__criterion=entropy, rf__max_depth=4, rf__n_estimators=1100\n",
      "[CV 2/5; 2/10] END pca__n_components=5, rf__criterion=entropy, rf__max_depth=4, rf__n_estimators=1100;, score=0.378 total time=   0.8s\n",
      "[CV 3/5; 2/10] START pca__n_components=5, rf__criterion=entropy, rf__max_depth=4, rf__n_estimators=1100\n",
      "[CV 3/5; 2/10] END pca__n_components=5, rf__criterion=entropy, rf__max_depth=4, rf__n_estimators=1100;, score=0.320 total time=   0.9s\n",
      "[CV 4/5; 2/10] START pca__n_components=5, rf__criterion=entropy, rf__max_depth=4, rf__n_estimators=1100\n",
      "[CV 4/5; 2/10] END pca__n_components=5, rf__criterion=entropy, rf__max_depth=4, rf__n_estimators=1100;, score=0.312 total time=   0.7s\n",
      "[CV 5/5; 2/10] START pca__n_components=5, rf__criterion=entropy, rf__max_depth=4, rf__n_estimators=1100\n",
      "[CV 5/5; 2/10] END pca__n_components=5, rf__criterion=entropy, rf__max_depth=4, rf__n_estimators=1100;, score=0.258 total time=   0.8s\n",
      "[CV 1/5; 3/10] START pca__n_components=9, rf__criterion=gini, rf__max_depth=10, rf__n_estimators=1000\n",
      "[CV 1/5; 3/10] END pca__n_components=9, rf__criterion=gini, rf__max_depth=10, rf__n_estimators=1000;, score=0.407 total time=   0.7s\n",
      "[CV 2/5; 3/10] START pca__n_components=9, rf__criterion=gini, rf__max_depth=10, rf__n_estimators=1000\n",
      "[CV 2/5; 3/10] END pca__n_components=9, rf__criterion=gini, rf__max_depth=10, rf__n_estimators=1000;, score=0.463 total time=   0.7s\n",
      "[CV 3/5; 3/10] START pca__n_components=9, rf__criterion=gini, rf__max_depth=10, rf__n_estimators=1000\n",
      "[CV 3/5; 3/10] END pca__n_components=9, rf__criterion=gini, rf__max_depth=10, rf__n_estimators=1000;, score=0.497 total time=   0.7s\n",
      "[CV 4/5; 3/10] START pca__n_components=9, rf__criterion=gini, rf__max_depth=10, rf__n_estimators=1000\n",
      "[CV 4/5; 3/10] END pca__n_components=9, rf__criterion=gini, rf__max_depth=10, rf__n_estimators=1000;, score=0.495 total time=   0.7s\n",
      "[CV 5/5; 3/10] START pca__n_components=9, rf__criterion=gini, rf__max_depth=10, rf__n_estimators=1000\n",
      "[CV 5/5; 3/10] END pca__n_components=9, rf__criterion=gini, rf__max_depth=10, rf__n_estimators=1000;, score=0.420 total time=   0.7s\n",
      "[CV 1/5; 4/10] START pca__n_components=6, rf__criterion=gini, rf__max_depth=9, rf__n_estimators=1200\n",
      "[CV 1/5; 4/10] END pca__n_components=6, rf__criterion=gini, rf__max_depth=9, rf__n_estimators=1200;, score=0.378 total time=   0.8s\n",
      "[CV 2/5; 4/10] START pca__n_components=6, rf__criterion=gini, rf__max_depth=9, rf__n_estimators=1200\n",
      "[CV 2/5; 4/10] END pca__n_components=6, rf__criterion=gini, rf__max_depth=9, rf__n_estimators=1200;, score=0.425 total time=   0.7s\n",
      "[CV 3/5; 4/10] START pca__n_components=6, rf__criterion=gini, rf__max_depth=9, rf__n_estimators=1200\n",
      "[CV 3/5; 4/10] END pca__n_components=6, rf__criterion=gini, rf__max_depth=9, rf__n_estimators=1200;, score=0.345 total time=   0.7s\n",
      "[CV 4/5; 4/10] START pca__n_components=6, rf__criterion=gini, rf__max_depth=9, rf__n_estimators=1200\n",
      "[CV 4/5; 4/10] END pca__n_components=6, rf__criterion=gini, rf__max_depth=9, rf__n_estimators=1200;, score=0.432 total time=   0.7s\n",
      "[CV 5/5; 4/10] START pca__n_components=6, rf__criterion=gini, rf__max_depth=9, rf__n_estimators=1200\n",
      "[CV 5/5; 4/10] END pca__n_components=6, rf__criterion=gini, rf__max_depth=9, rf__n_estimators=1200;, score=0.312 total time=   0.7s\n",
      "[CV 1/5; 5/10] START pca__n_components=7, rf__criterion=entropy, rf__max_depth=19, rf__n_estimators=1200\n",
      "[CV 1/5; 5/10] END pca__n_components=7, rf__criterion=entropy, rf__max_depth=19, rf__n_estimators=1200;, score=0.393 total time=   1.2s\n",
      "[CV 2/5; 5/10] START pca__n_components=7, rf__criterion=entropy, rf__max_depth=19, rf__n_estimators=1200\n",
      "[CV 2/5; 5/10] END pca__n_components=7, rf__criterion=entropy, rf__max_depth=19, rf__n_estimators=1200;, score=0.403 total time=   1.2s\n",
      "[CV 3/5; 5/10] START pca__n_components=7, rf__criterion=entropy, rf__max_depth=19, rf__n_estimators=1200\n",
      "[CV 3/5; 5/10] END pca__n_components=7, rf__criterion=entropy, rf__max_depth=19, rf__n_estimators=1200;, score=0.367 total time=   1.2s\n",
      "[CV 4/5; 5/10] START pca__n_components=7, rf__criterion=entropy, rf__max_depth=19, rf__n_estimators=1200\n",
      "[CV 4/5; 5/10] END pca__n_components=7, rf__criterion=entropy, rf__max_depth=19, rf__n_estimators=1200;, score=0.427 total time=   1.3s\n",
      "[CV 5/5; 5/10] START pca__n_components=7, rf__criterion=entropy, rf__max_depth=19, rf__n_estimators=1200\n",
      "[CV 5/5; 5/10] END pca__n_components=7, rf__criterion=entropy, rf__max_depth=19, rf__n_estimators=1200;, score=0.412 total time=   1.2s\n",
      "[CV 1/5; 6/10] START pca__n_components=6, rf__criterion=gini, rf__max_depth=6, rf__n_estimators=500\n",
      "[CV 1/5; 6/10] END pca__n_components=6, rf__criterion=gini, rf__max_depth=6, rf__n_estimators=500;, score=0.398 total time=   0.4s\n",
      "[CV 2/5; 6/10] START pca__n_components=6, rf__criterion=gini, rf__max_depth=6, rf__n_estimators=500\n",
      "[CV 2/5; 6/10] END pca__n_components=6, rf__criterion=gini, rf__max_depth=6, rf__n_estimators=500;, score=0.425 total time=   0.4s\n",
      "[CV 3/5; 6/10] START pca__n_components=6, rf__criterion=gini, rf__max_depth=6, rf__n_estimators=500\n",
      "[CV 3/5; 6/10] END pca__n_components=6, rf__criterion=gini, rf__max_depth=6, rf__n_estimators=500;, score=0.340 total time=   0.4s\n",
      "[CV 4/5; 6/10] START pca__n_components=6, rf__criterion=gini, rf__max_depth=6, rf__n_estimators=500\n",
      "[CV 4/5; 6/10] END pca__n_components=6, rf__criterion=gini, rf__max_depth=6, rf__n_estimators=500;, score=0.430 total time=   0.4s\n",
      "[CV 5/5; 6/10] START pca__n_components=6, rf__criterion=gini, rf__max_depth=6, rf__n_estimators=500\n",
      "[CV 5/5; 6/10] END pca__n_components=6, rf__criterion=gini, rf__max_depth=6, rf__n_estimators=500;, score=0.360 total time=   0.4s\n",
      "[CV 1/5; 7/10] START pca__n_components=5, rf__criterion=gini, rf__max_depth=3, rf__n_estimators=1400\n",
      "[CV 1/5; 7/10] END pca__n_components=5, rf__criterion=gini, rf__max_depth=3, rf__n_estimators=1400;, score=0.398 total time=   0.9s\n",
      "[CV 2/5; 7/10] START pca__n_components=5, rf__criterion=gini, rf__max_depth=3, rf__n_estimators=1400\n",
      "[CV 2/5; 7/10] END pca__n_components=5, rf__criterion=gini, rf__max_depth=3, rf__n_estimators=1400;, score=0.365 total time=   0.8s\n",
      "[CV 3/5; 7/10] START pca__n_components=5, rf__criterion=gini, rf__max_depth=3, rf__n_estimators=1400\n",
      "[CV 3/5; 7/10] END pca__n_components=5, rf__criterion=gini, rf__max_depth=3, rf__n_estimators=1400;, score=0.325 total time=   0.7s\n",
      "[CV 4/5; 7/10] START pca__n_components=5, rf__criterion=gini, rf__max_depth=3, rf__n_estimators=1400\n",
      "[CV 4/5; 7/10] END pca__n_components=5, rf__criterion=gini, rf__max_depth=3, rf__n_estimators=1400;, score=0.310 total time=   0.8s\n",
      "[CV 5/5; 7/10] START pca__n_components=5, rf__criterion=gini, rf__max_depth=3, rf__n_estimators=1400\n",
      "[CV 5/5; 7/10] END pca__n_components=5, rf__criterion=gini, rf__max_depth=3, rf__n_estimators=1400;, score=0.253 total time=   0.7s\n",
      "[CV 1/5; 8/10] START pca__n_components=6, rf__criterion=entropy, rf__max_depth=1, rf__n_estimators=1000\n",
      "[CV 1/5; 8/10] END pca__n_components=6, rf__criterion=entropy, rf__max_depth=1, rf__n_estimators=1000;, score=0.372 total time=   0.6s\n",
      "[CV 2/5; 8/10] START pca__n_components=6, rf__criterion=entropy, rf__max_depth=1, rf__n_estimators=1000\n",
      "[CV 2/5; 8/10] END pca__n_components=6, rf__criterion=entropy, rf__max_depth=1, rf__n_estimators=1000;, score=0.390 total time=   0.5s\n",
      "[CV 3/5; 8/10] START pca__n_components=6, rf__criterion=entropy, rf__max_depth=1, rf__n_estimators=1000\n",
      "[CV 3/5; 8/10] END pca__n_components=6, rf__criterion=entropy, rf__max_depth=1, rf__n_estimators=1000;, score=0.385 total time=   0.6s\n",
      "[CV 4/5; 8/10] START pca__n_components=6, rf__criterion=entropy, rf__max_depth=1, rf__n_estimators=1000\n",
      "[CV 4/5; 8/10] END pca__n_components=6, rf__criterion=entropy, rf__max_depth=1, rf__n_estimators=1000;, score=0.403 total time=   0.5s\n",
      "[CV 5/5; 8/10] START pca__n_components=6, rf__criterion=entropy, rf__max_depth=1, rf__n_estimators=1000\n",
      "[CV 5/5; 8/10] END pca__n_components=6, rf__criterion=entropy, rf__max_depth=1, rf__n_estimators=1000;, score=0.383 total time=   0.5s\n",
      "[CV 1/5; 9/10] START pca__n_components=9, rf__criterion=entropy, rf__max_depth=6, rf__n_estimators=600\n",
      "[CV 1/5; 9/10] END pca__n_components=9, rf__criterion=entropy, rf__max_depth=6, rf__n_estimators=600;, score=0.405 total time=   0.5s\n",
      "[CV 2/5; 9/10] START pca__n_components=9, rf__criterion=entropy, rf__max_depth=6, rf__n_estimators=600\n",
      "[CV 2/5; 9/10] END pca__n_components=9, rf__criterion=entropy, rf__max_depth=6, rf__n_estimators=600;, score=0.470 total time=   0.5s\n",
      "[CV 3/5; 9/10] START pca__n_components=9, rf__criterion=entropy, rf__max_depth=6, rf__n_estimators=600\n",
      "[CV 3/5; 9/10] END pca__n_components=9, rf__criterion=entropy, rf__max_depth=6, rf__n_estimators=600;, score=0.472 total time=   0.4s\n",
      "[CV 4/5; 9/10] START pca__n_components=9, rf__criterion=entropy, rf__max_depth=6, rf__n_estimators=600\n",
      "[CV 4/5; 9/10] END pca__n_components=9, rf__criterion=entropy, rf__max_depth=6, rf__n_estimators=600;, score=0.485 total time=   0.5s\n",
      "[CV 5/5; 9/10] START pca__n_components=9, rf__criterion=entropy, rf__max_depth=6, rf__n_estimators=600\n",
      "[CV 5/5; 9/10] END pca__n_components=9, rf__criterion=entropy, rf__max_depth=6, rf__n_estimators=600;, score=0.432 total time=   0.5s\n",
      "[CV 1/5; 10/10] START pca__n_components=7, rf__criterion=gini, rf__max_depth=14, rf__n_estimators=200\n",
      "[CV 1/5; 10/10] END pca__n_components=7, rf__criterion=gini, rf__max_depth=14, rf__n_estimators=200;, score=0.400 total time=   0.1s\n",
      "[CV 2/5; 10/10] START pca__n_components=7, rf__criterion=gini, rf__max_depth=14, rf__n_estimators=200\n",
      "[CV 2/5; 10/10] END pca__n_components=7, rf__criterion=gini, rf__max_depth=14, rf__n_estimators=200;, score=0.385 total time=   0.1s\n",
      "[CV 3/5; 10/10] START pca__n_components=7, rf__criterion=gini, rf__max_depth=14, rf__n_estimators=200\n",
      "[CV 3/5; 10/10] END pca__n_components=7, rf__criterion=gini, rf__max_depth=14, rf__n_estimators=200;, score=0.360 total time=   0.1s\n",
      "[CV 4/5; 10/10] START pca__n_components=7, rf__criterion=gini, rf__max_depth=14, rf__n_estimators=200\n",
      "[CV 4/5; 10/10] END pca__n_components=7, rf__criterion=gini, rf__max_depth=14, rf__n_estimators=200;, score=0.425 total time=   0.1s\n",
      "[CV 5/5; 10/10] START pca__n_components=7, rf__criterion=gini, rf__max_depth=14, rf__n_estimators=200\n",
      "[CV 5/5; 10/10] END pca__n_components=7, rf__criterion=gini, rf__max_depth=14, rf__n_estimators=200;, score=0.415 total time=   0.1s\n"
     ]
    },
    {
     "data": {
      "text/plain": [
       "RandomizedSearchCV(cv=5,\n",
       "                   estimator=Pipeline(steps=[('scaling', StandardScaler()),\n",
       "                                             ('pca', PCA()),\n",
       "                                             ('rf',\n",
       "                                              RandomForestClassifier(n_jobs=-1))]),\n",
       "                   n_jobs=1,\n",
       "                   param_distributions={'pca__n_components': array([5, 6, 7, 8, 9]),\n",
       "                                        'rf__criterion': ['gini', 'entropy'],\n",
       "                                        'rf__max_depth': array([ 1,  2,  3,  4,  5,  6,  7,  8,  9, 10, 11, 12, 13, 14, 15, 16, 17,\n",
       "       18, 19]),\n",
       "                                        'rf__n_estimators': array([ 100,  200,  300,  400,  500,  600,  700,  800,  900, 1000, 1100,\n",
       "       1200, 1300, 1400])},\n",
       "                   scoring='accuracy', verbose=10)"
      ]
     },
     "execution_count": 5,
     "metadata": {},
     "output_type": "execute_result"
    }
   ],
   "source": [
    "model = model_selection.RandomizedSearchCV(\n",
    "    estimator = classifier,\n",
    "    param_distributions = parameters_dist,\n",
    "    n_iter = 10,\n",
    "    scoring = 'accuracy',\n",
    "    verbose = 10,\n",
    "    n_jobs = 1,\n",
    "    cv = 5,\n",
    ")\n",
    "\n",
    "model.fit(X, y)"
   ]
  },
  {
   "cell_type": "code",
   "execution_count": 6,
   "metadata": {},
   "outputs": [
    {
     "name": "stdout",
     "output_type": "stream",
     "text": [
      "0.45649999999999996\n",
      "{'memory': None, 'steps': [('scaling', StandardScaler()), ('pca', PCA(n_components=9)), ('rf', RandomForestClassifier(max_depth=10, n_estimators=1000, n_jobs=-1))], 'verbose': False, 'scaling': StandardScaler(), 'pca': PCA(n_components=9), 'rf': RandomForestClassifier(max_depth=10, n_estimators=1000, n_jobs=-1), 'scaling__copy': True, 'scaling__with_mean': True, 'scaling__with_std': True, 'pca__copy': True, 'pca__iterated_power': 'auto', 'pca__n_components': 9, 'pca__random_state': None, 'pca__svd_solver': 'auto', 'pca__tol': 0.0, 'pca__whiten': False, 'rf__bootstrap': True, 'rf__ccp_alpha': 0.0, 'rf__class_weight': None, 'rf__criterion': 'gini', 'rf__max_depth': 10, 'rf__max_features': 'auto', 'rf__max_leaf_nodes': None, 'rf__max_samples': None, 'rf__min_impurity_decrease': 0.0, 'rf__min_samples_leaf': 1, 'rf__min_samples_split': 2, 'rf__min_weight_fraction_leaf': 0.0, 'rf__n_estimators': 1000, 'rf__n_jobs': -1, 'rf__oob_score': False, 'rf__random_state': None, 'rf__verbose': 0, 'rf__warm_start': False}\n"
     ]
    }
   ],
   "source": [
    "print(model.best_score_)\n",
    "print(model.best_estimator_.get_params())"
   ]
  }
 ],
 "metadata": {
  "kernelspec": {
   "display_name": "base",
   "language": "python",
   "name": "python3"
  },
  "language_info": {
   "codemirror_mode": {
    "name": "ipython",
    "version": 3
   },
   "file_extension": ".py",
   "mimetype": "text/x-python",
   "name": "python",
   "nbconvert_exporter": "python",
   "pygments_lexer": "ipython3",
   "version": "3.9.13"
  },
  "orig_nbformat": 4,
  "vscode": {
   "interpreter": {
    "hash": "ad2bdc8ecc057115af97d19610ffacc2b4e99fae6737bb82f5d7fb13d2f2c186"
   }
  }
 },
 "nbformat": 4,
 "nbformat_minor": 2
}
